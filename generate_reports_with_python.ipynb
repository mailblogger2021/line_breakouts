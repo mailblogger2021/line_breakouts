{
 "cells": [
  {
   "cell_type": "markdown",
   "metadata": {},
   "source": [
    "# Overview"
   ]
  },
  {
   "cell_type": "markdown",
   "metadata": {},
   "source": [
    "# PDF"
   ]
  },
  {
   "cell_type": "code",
   "execution_count": null,
   "metadata": {},
   "outputs": [],
   "source": [
    "from fpdf import FPDF \n",
    "import pandas as pd\n",
    "import yfinance as yf"
   ]
  },
  {
   "cell_type": "code",
   "execution_count": null,
   "metadata": {},
   "outputs": [],
   "source": [
    "import get_candle_data"
   ]
  },
  {
   "cell_type": "code",
   "execution_count": null,
   "metadata": {},
   "outputs": [],
   "source": [
    "get_candle_data.maximum_days_yfinance"
   ]
  },
  {
   "cell_type": "code",
   "execution_count": null,
   "metadata": {},
   "outputs": [],
   "source": [
    "time_frame = \"60m\"\n",
    "stock_name = \"ULTRACEMCO.NS\""
   ]
  },
  {
   "cell_type": "code",
   "execution_count": null,
   "metadata": {},
   "outputs": [],
   "source": [
    "'1d, 5d, 1mo, 3mo, 6mo, 1y, 2y, 5y, 10y, ytd, max'.split(',')"
   ]
  },
  {
   "cell_type": "code",
   "execution_count": null,
   "metadata": {},
   "outputs": [],
   "source": [
    "# 1d, 5d, 1mo, 3mo, 6mo, 1y, 2y, 5y, 10y, ytd, max\n",
    "for time in '2m'.split(','):\n",
    "    data = get_candle_data.get_candle_data_from_yfinance(tickers=[\"ULTRACEMCO.NS\",\"TATAMOTORS.NS\"],period='max', interval=time)\n",
    "    print(time,data)"
   ]
  },
  {
   "cell_type": "code",
   "execution_count": null,
   "metadata": {},
   "outputs": [],
   "source": [
    "tickets_list = ['DATAPATTNS.NS']"
   ]
  },
  {
   "cell_type": "code",
   "execution_count": null,
   "metadata": {},
   "outputs": [],
   "source": [
    "data = get_candle_data.get_candle_data_from_yfinance(tickers=tickets_list,period='max', interval='60m')"
   ]
  },
  {
   "cell_type": "code",
   "execution_count": 31,
   "metadata": {},
   "outputs": [
    {
     "name": "stderr",
     "output_type": "stream",
     "text": [
      "[*********************100%%**********************]  1 of 1 completed\n"
     ]
    },
    {
     "data": {
      "text/html": [
       "<div>\n",
       "<style scoped>\n",
       "    .dataframe tbody tr th:only-of-type {\n",
       "        vertical-align: middle;\n",
       "    }\n",
       "\n",
       "    .dataframe tbody tr th {\n",
       "        vertical-align: top;\n",
       "    }\n",
       "\n",
       "    .dataframe thead th {\n",
       "        text-align: right;\n",
       "    }\n",
       "</style>\n",
       "<table border=\"1\" class=\"dataframe\">\n",
       "  <thead>\n",
       "    <tr style=\"text-align: right;\">\n",
       "      <th></th>\n",
       "      <th>Open</th>\n",
       "      <th>High</th>\n",
       "      <th>Low</th>\n",
       "      <th>Close</th>\n",
       "      <th>Adj Close</th>\n",
       "      <th>Volume</th>\n",
       "    </tr>\n",
       "    <tr>\n",
       "      <th>Datetime</th>\n",
       "      <th></th>\n",
       "      <th></th>\n",
       "      <th></th>\n",
       "      <th></th>\n",
       "      <th></th>\n",
       "      <th></th>\n",
       "    </tr>\n",
       "  </thead>\n",
       "  <tbody>\n",
       "    <tr>\n",
       "      <th>2021-12-27 09:15:00+05:30</th>\n",
       "      <td>785.150024</td>\n",
       "      <td>801.500000</td>\n",
       "      <td>785.049988</td>\n",
       "      <td>798.000000</td>\n",
       "      <td>798.000000</td>\n",
       "      <td>0</td>\n",
       "    </tr>\n",
       "    <tr>\n",
       "      <th>2021-12-27 10:15:00+05:30</th>\n",
       "      <td>798.000000</td>\n",
       "      <td>798.450012</td>\n",
       "      <td>794.799988</td>\n",
       "      <td>795.650024</td>\n",
       "      <td>795.650024</td>\n",
       "      <td>313267</td>\n",
       "    </tr>\n",
       "    <tr>\n",
       "      <th>2021-12-27 11:15:00+05:30</th>\n",
       "      <td>796.150024</td>\n",
       "      <td>798.000000</td>\n",
       "      <td>793.650024</td>\n",
       "      <td>797.049988</td>\n",
       "      <td>797.049988</td>\n",
       "      <td>33333</td>\n",
       "    </tr>\n",
       "    <tr>\n",
       "      <th>2021-12-27 12:15:00+05:30</th>\n",
       "      <td>796.500000</td>\n",
       "      <td>798.000000</td>\n",
       "      <td>796.500000</td>\n",
       "      <td>797.000000</td>\n",
       "      <td>797.000000</td>\n",
       "      <td>5524</td>\n",
       "    </tr>\n",
       "    <tr>\n",
       "      <th>2021-12-27 13:15:00+05:30</th>\n",
       "      <td>797.000000</td>\n",
       "      <td>798.000000</td>\n",
       "      <td>795.250000</td>\n",
       "      <td>797.450012</td>\n",
       "      <td>797.450012</td>\n",
       "      <td>5675</td>\n",
       "    </tr>\n",
       "    <tr>\n",
       "      <th>...</th>\n",
       "      <td>...</td>\n",
       "      <td>...</td>\n",
       "      <td>...</td>\n",
       "      <td>...</td>\n",
       "      <td>...</td>\n",
       "      <td>...</td>\n",
       "    </tr>\n",
       "    <tr>\n",
       "      <th>2024-05-17 11:15:00+05:30</th>\n",
       "      <td>549.599976</td>\n",
       "      <td>550.700012</td>\n",
       "      <td>547.799988</td>\n",
       "      <td>550.000000</td>\n",
       "      <td>550.000000</td>\n",
       "      <td>24145</td>\n",
       "    </tr>\n",
       "    <tr>\n",
       "      <th>2024-05-17 12:15:00+05:30</th>\n",
       "      <td>550.450012</td>\n",
       "      <td>553.150024</td>\n",
       "      <td>550.000000</td>\n",
       "      <td>551.599976</td>\n",
       "      <td>551.599976</td>\n",
       "      <td>27831</td>\n",
       "    </tr>\n",
       "    <tr>\n",
       "      <th>2024-05-17 13:15:00+05:30</th>\n",
       "      <td>551.549988</td>\n",
       "      <td>552.400024</td>\n",
       "      <td>550.000000</td>\n",
       "      <td>550.849976</td>\n",
       "      <td>550.849976</td>\n",
       "      <td>24209</td>\n",
       "    </tr>\n",
       "    <tr>\n",
       "      <th>2024-05-17 14:15:00+05:30</th>\n",
       "      <td>551.400024</td>\n",
       "      <td>555.000000</td>\n",
       "      <td>550.000000</td>\n",
       "      <td>553.950012</td>\n",
       "      <td>553.950012</td>\n",
       "      <td>36402</td>\n",
       "    </tr>\n",
       "    <tr>\n",
       "      <th>2024-05-17 15:15:00+05:30</th>\n",
       "      <td>553.950012</td>\n",
       "      <td>555.750000</td>\n",
       "      <td>553.500000</td>\n",
       "      <td>554.400024</td>\n",
       "      <td>554.400024</td>\n",
       "      <td>0</td>\n",
       "    </tr>\n",
       "  </tbody>\n",
       "</table>\n",
       "<p>4117 rows × 6 columns</p>\n",
       "</div>"
      ],
      "text/plain": [
       "                                 Open        High         Low       Close  \\\n",
       "Datetime                                                                    \n",
       "2021-12-27 09:15:00+05:30  785.150024  801.500000  785.049988  798.000000   \n",
       "2021-12-27 10:15:00+05:30  798.000000  798.450012  794.799988  795.650024   \n",
       "2021-12-27 11:15:00+05:30  796.150024  798.000000  793.650024  797.049988   \n",
       "2021-12-27 12:15:00+05:30  796.500000  798.000000  796.500000  797.000000   \n",
       "2021-12-27 13:15:00+05:30  797.000000  798.000000  795.250000  797.450012   \n",
       "...                               ...         ...         ...         ...   \n",
       "2024-05-17 11:15:00+05:30  549.599976  550.700012  547.799988  550.000000   \n",
       "2024-05-17 12:15:00+05:30  550.450012  553.150024  550.000000  551.599976   \n",
       "2024-05-17 13:15:00+05:30  551.549988  552.400024  550.000000  550.849976   \n",
       "2024-05-17 14:15:00+05:30  551.400024  555.000000  550.000000  553.950012   \n",
       "2024-05-17 15:15:00+05:30  553.950012  555.750000  553.500000  554.400024   \n",
       "\n",
       "                            Adj Close  Volume  \n",
       "Datetime                                       \n",
       "2021-12-27 09:15:00+05:30  798.000000       0  \n",
       "2021-12-27 10:15:00+05:30  795.650024  313267  \n",
       "2021-12-27 11:15:00+05:30  797.049988   33333  \n",
       "2021-12-27 12:15:00+05:30  797.000000    5524  \n",
       "2021-12-27 13:15:00+05:30  797.450012    5675  \n",
       "...                               ...     ...  \n",
       "2024-05-17 11:15:00+05:30  550.000000   24145  \n",
       "2024-05-17 12:15:00+05:30  551.599976   27831  \n",
       "2024-05-17 13:15:00+05:30  550.849976   24209  \n",
       "2024-05-17 14:15:00+05:30  553.950012   36402  \n",
       "2024-05-17 15:15:00+05:30  554.400024       0  \n",
       "\n",
       "[4117 rows x 6 columns]"
      ]
     },
     "execution_count": 31,
     "metadata": {},
     "output_type": "execute_result"
    }
   ],
   "source": [
    "# for \n",
    "yf.download(tickers='STARHEALTH.NS', period='590d', interval='1h')"
   ]
  },
  {
   "cell_type": "code",
   "execution_count": null,
   "metadata": {},
   "outputs": [],
   "source": [
    "for i in data:\n",
    "    print(i)\n",
    "    print(data[i])"
   ]
  },
  {
   "cell_type": "code",
   "execution_count": 21,
   "metadata": {},
   "outputs": [],
   "source": [
    "stock_data = pd.read_excel(\"stock market names.xlsx\",sheet_name='Stock_list')"
   ]
  },
  {
   "cell_type": "code",
   "execution_count": 22,
   "metadata": {},
   "outputs": [],
   "source": [
    "total_rows = len(stock_data)\n",
    "stock_name_list = []"
   ]
  },
  {
   "cell_type": "code",
   "execution_count": 23,
   "metadata": {},
   "outputs": [],
   "source": [
    "for index in range(0, total_rows):\n",
    "    stock_name = stock_data.iloc[index]['YFINANCE']\n",
    "    stock_name_list.append(stock_name)\n",
    "    # break"
   ]
  },
  {
   "cell_type": "code",
   "execution_count": 33,
   "metadata": {},
   "outputs": [
    {
     "name": "stderr",
     "output_type": "stream",
     "text": [
      "[*********************100%%**********************]  100 of 100 completed\n",
      "\n",
      "10 Failed downloads:\n",
      "['SPLPETRO.NS']: IndexError('Boolean index has wrong length: 5 instead of 4')\n",
      "['NAVA.NS']: IndexError('Boolean index has wrong length: 3 instead of 2')\n",
      "['FINOPB.NS']: Exception('%ticker%: 1h data not available for startTime=1636688700 and endTime=1716040939. The requested range must be within the last 730 days.')\n",
      "['MOL.NS']: Exception('%ticker%: 1h data not available for startTime=1629258300 and endTime=1716040942. The requested range must be within the last 730 days.')\n",
      "['CMSINFO.NS']: Exception('%ticker%: 1h data not available for startTime=1640922300 and endTime=1716040942. The requested range must be within the last 730 days.')\n",
      "['ANANDRATHI.NS']: Exception('%ticker%: 1h data not available for startTime=1639453500 and endTime=1716040944. The requested range must be within the last 730 days.')\n",
      "['IONEXCHANG.NS']: Exception('%ticker%: 1h data not available for startTime=1645501500 and endTime=1716040946. The requested range must be within the last 730 days.')\n",
      "['DEVYANI.NS']: Exception('%ticker%: 1h data not available for startTime=1629085500 and endTime=1716040956. The requested range must be within the last 730 days.')\n",
      "['HINDWAREAP.NS']: IndexError('Boolean index has wrong length: 2 instead of 1')\n",
      "['CARYSIL.NS']: IndexError('Boolean index has wrong length: 3 instead of 1')\n"
     ]
    }
   ],
   "source": [
    "data = get_candle_data.get_candle_data_from_yfinance(tickers=stock_name_list[300:400],period='max', interval='60m')"
   ]
  },
  {
   "cell_type": "code",
   "execution_count": null,
   "metadata": {},
   "outputs": [],
   "source": []
  }
 ],
 "metadata": {
  "kernelspec": {
   "display_name": "Python 3",
   "language": "python",
   "name": "python3"
  },
  "language_info": {
   "codemirror_mode": {
    "name": "ipython",
    "version": 3
   },
   "file_extension": ".py",
   "mimetype": "text/x-python",
   "name": "python",
   "nbconvert_exporter": "python",
   "pygments_lexer": "ipython3",
   "version": "3.12.3"
  }
 },
 "nbformat": 4,
 "nbformat_minor": 4
}
